{
 "cells": [
  {
   "cell_type": "code",
   "execution_count": 8,
   "metadata": {},
   "outputs": [
    {
     "name": "stdout",
     "output_type": "stream",
     "text": [
      "datatype of x= 5 is  <class 'int'>\n",
      "datatype of y=John is  <class 'str'>\n"
     ]
    }
   ],
   "source": [
    "#1. Find the data type of these two declaration:x=5 y=\"John\"\n",
    "\n",
    "x=5\n",
    "y=\"John\"\n",
    "print(\"datatype of x= 5 is \",type(x))\n",
    "print(\"datatype of y=\"\"John\"\" is \",type(y))"
   ]
  },
  {
   "cell_type": "code",
   "execution_count": 9,
   "metadata": {},
   "outputs": [
    {
     "ename": "SyntaxError",
     "evalue": "invalid syntax (2616624468.py, line 3)",
     "output_type": "error",
     "traceback": [
      "\u001b[1;36m  File \u001b[1;32m\"C:\\Users\\ANANT\\AppData\\Local\\Temp\\ipykernel_5592\\2616624468.py\"\u001b[1;36m, line \u001b[1;32m3\u001b[0m\n\u001b[1;33m    3a=10\u001b[0m\n\u001b[1;37m     ^\u001b[0m\n\u001b[1;31mSyntaxError\u001b[0m\u001b[1;31m:\u001b[0m invalid syntax\n"
     ]
    }
   ],
   "source": [
    "#2. Check whether the following syntax is valid or invalid for naming a variable.:Example:abc=100#validsyntax\n",
    "#i.3a=10 ,ii.@abc=10, iii. a100=100, iv._a984_=100, v.a9967$=100, vi.xyz-2=100\n",
    "3a=10\n",
    "print(3a)\n",
    "# invalid syntax"
   ]
  },
  {
   "cell_type": "code",
   "execution_count": 10,
   "metadata": {},
   "outputs": [
    {
     "ename": "SyntaxError",
     "evalue": "invalid syntax (2597519237.py, line 1)",
     "output_type": "error",
     "traceback": [
      "\u001b[1;36m  File \u001b[1;32m\"C:\\Users\\ANANT\\AppData\\Local\\Temp\\ipykernel_5592\\2597519237.py\"\u001b[1;36m, line \u001b[1;32m1\u001b[0m\n\u001b[1;33m    @abc=10\u001b[0m\n\u001b[1;37m        ^\u001b[0m\n\u001b[1;31mSyntaxError\u001b[0m\u001b[1;31m:\u001b[0m invalid syntax\n"
     ]
    }
   ],
   "source": [
    "@abc=10\n",
    "print (@abc)\n",
    "# invalid syntax"
   ]
  },
  {
   "cell_type": "code",
   "execution_count": 11,
   "metadata": {},
   "outputs": [
    {
     "name": "stdout",
     "output_type": "stream",
     "text": [
      "100\n"
     ]
    }
   ],
   "source": [
    "a100=100\n",
    "print(a100)\n",
    "# valid syntax"
   ]
  },
  {
   "cell_type": "code",
   "execution_count": 12,
   "metadata": {},
   "outputs": [
    {
     "name": "stdout",
     "output_type": "stream",
     "text": [
      "100\n"
     ]
    }
   ],
   "source": [
    "_a984_=100\n",
    "print(_a984_)\n",
    "# valid syntax"
   ]
  },
  {
   "cell_type": "code",
   "execution_count": 13,
   "metadata": {},
   "outputs": [
    {
     "ename": "SyntaxError",
     "evalue": "invalid syntax (1811642419.py, line 1)",
     "output_type": "error",
     "traceback": [
      "\u001b[1;36m  File \u001b[1;32m\"C:\\Users\\ANANT\\AppData\\Local\\Temp\\ipykernel_5592\\1811642419.py\"\u001b[1;36m, line \u001b[1;32m1\u001b[0m\n\u001b[1;33m    a9967$=100\u001b[0m\n\u001b[1;37m         ^\u001b[0m\n\u001b[1;31mSyntaxError\u001b[0m\u001b[1;31m:\u001b[0m invalid syntax\n"
     ]
    }
   ],
   "source": [
    "a9967$=100\n",
    "print(a9967$)\n",
    "# invalid syntax"
   ]
  },
  {
   "cell_type": "code",
   "execution_count": 14,
   "metadata": {},
   "outputs": [
    {
     "ename": "SyntaxError",
     "evalue": "cannot assign to operator (591750844.py, line 1)",
     "output_type": "error",
     "traceback": [
      "\u001b[1;36m  File \u001b[1;32m\"C:\\Users\\ANANT\\AppData\\Local\\Temp\\ipykernel_5592\\591750844.py\"\u001b[1;36m, line \u001b[1;32m1\u001b[0m\n\u001b[1;33m    xyz-2=100\u001b[0m\n\u001b[1;37m    ^\u001b[0m\n\u001b[1;31mSyntaxError\u001b[0m\u001b[1;31m:\u001b[0m cannot assign to operator\n"
     ]
    }
   ],
   "source": [
    "xyz-2=100\n",
    "print (xyz-2)\n",
    "# Syntax Error: cannot assign to operator"
   ]
  },
  {
   "cell_type": "code",
   "execution_count": 2,
   "metadata": {},
   "outputs": [
    {
     "name": "stdout",
     "output_type": "stream",
     "text": [
      "[1, 6, 3, 5, 3, 4]\n",
      "Check if 3 exist or not: True\n",
      "Check if 9 exists or not: False\n"
     ]
    }
   ],
   "source": [
    "#3. Check if element exists in list in Python:list=test_list=[1,6,3,5,3,4]\n",
    "# 1.Check if 3 exist or not\n",
    "# 2.Check if 9 exist or not.\n",
    "\n",
    "list=test_list=[1,6,3,5,3,4]\n",
    "print(list)\n",
    "print(\"Check if 3 exist or not:\", 3 in list)\n",
    "\n",
    "print(\"Check if 9 exists or not:\",9 in list )\n"
   ]
  },
  {
   "cell_type": "code",
   "execution_count": 5,
   "metadata": {},
   "outputs": [
    {
     "name": "stdout",
     "output_type": "stream",
     "text": [
      "2023-03-11\n"
     ]
    }
   ],
   "source": [
    "#4. Take the user input to print the current date.\n",
    "\n",
    "from datetime import date ,datetime\n",
    "day=int(input(\"Enter the today's date= \"))\n",
    "month=int(input(\"Enter the today's month= \"))\n",
    "year=int(input(\"Enter the today's year= \"))\n",
    "today=date(year,month,day)\n",
    "print(today)"
   ]
  },
  {
   "cell_type": "code",
   "execution_count": 22,
   "metadata": {},
   "outputs": [
    {
     "name": "stdout",
     "output_type": "stream",
     "text": [
      "9//2 = 4\n",
      "9 %2 = 1\n"
     ]
    }
   ],
   "source": [
    "#5. what is the output of the following code:\n",
    "# a.print9//2 \n",
    "# b.print9%2\n",
    "\n",
    "print(\"9//2 =\", 9//2)\n",
    "print(\"9 %2 =\", 9%2)"
   ]
  },
  {
   "cell_type": "code",
   "execution_count": 6,
   "metadata": {},
   "outputs": [
    {
     "name": "stdout",
     "output_type": "stream",
     "text": [
      "Print First 10 natural numbers using a while loop\n",
      "1 2 3 4 5 6 7 8 9 10 "
     ]
    }
   ],
   "source": [
    "#6. Print First 10 natural numbers using a while loop.\n",
    "\n",
    "i=1\n",
    "print(\"Print First 10 natural numbers using a while loop\")\n",
    "while i <=10:\n",
    "    print(i,end=\" \")\n",
    "    i+=1\n",
    " "
   ]
  },
  {
   "cell_type": "code",
   "execution_count": 27,
   "metadata": {},
   "outputs": [
    {
     "name": "stdout",
     "output_type": "stream",
     "text": [
      "The sum of all numbers from 1 to the given number is:  5050\n"
     ]
    }
   ],
   "source": [
    "#7. Write a program to accept a number from a user and calculate the sum of all numbers from 1 to a given number.\n",
    "# For example,if the user entered 10 the output should be 55 (1+2+3+4+5+6+7+8+9+10)\n",
    "\n",
    "# Using For loop.\n",
    "n = int(input(\"Enter a number: \"))\n",
    "s = 0\n",
    "for i in range(n + 1):\n",
    "    s += i\n",
    "print(\"The sum of all numbers from 1 to the given number is: \", s)"
   ]
  },
  {
   "cell_type": "code",
   "execution_count": 30,
   "metadata": {},
   "outputs": [
    {
     "name": "stdout",
     "output_type": "stream",
     "text": [
      "The sum of all numbers from 1 to  100 =  5050\n"
     ]
    }
   ],
   "source": [
    "#7. Write a program to accept a number from a user and calculate the sum of all numbers from 1 to a given number.\n",
    "# For example,if the user entered 10 the output should be 55 (1+2+3+4+5+6+7+8+9+10)\n",
    "\n",
    "# Using while loop.\n",
    "n = int(input(\"Enter the number\"))\n",
    "s = 0\n",
    "a = 1\n",
    "while a < (n+1):\n",
    "    s = s + a\n",
    "    a+=1\n",
    "print(\"The sum of all numbers from 1 to \", n,\"= \",s)"
   ]
  },
  {
   "cell_type": "code",
   "execution_count": 31,
   "metadata": {},
   "outputs": [
    {
     "name": "stdout",
     "output_type": "stream",
     "text": [
      "1 2 Fizz 4 Buzz Fizz 7 8 Fizz Buzz 11 Fizz 13 14 FizzBuzz 16 17 Fizz 19 Buzz Fizz 22 23 Fizz Buzz 26 Fizz 28 29 FizzBuzz 31 32 Fizz 34 Buzz Fizz 37 38 Fizz Buzz 41 Fizz 43 44 FizzBuzz 46 47 Fizz 49 Buzz "
     ]
    }
   ],
   "source": [
    "#8. Write a Python program which iterates the integers from 1 to 50. For multiples of three print\"Fizz\" instead of the number\n",
    "# and for the multiples of five print \"Buzz\". For numbers which are multiples of both three and five print\"FizzBuzz\".\n",
    "# Example :fizzbuzz 1 2 fizz 4 buzz\n",
    "\n",
    "# Python program to print Fizz Buzz\n",
    "# Loop for 50 times i.e. range\n",
    "for i in range(1,51):\n",
    "\n",
    "\t# Number divisible by 15,(divisible\n",
    "\t# by both 3 & 5), print 'FizzBuzz'\n",
    "\t# in place of the number\n",
    "\tif i % 15 == 0:\n",
    "\t\tprint(\"FizzBuzz\", end=\" \")\t\t\t\t\t\t\t\t\t\t\n",
    "\t\tcontinue\n",
    "\n",
    "\t# Number divisible by 3, print 'Fizz'\n",
    "\t# in place of the number\n",
    "\telif i % 3 == 0:\t\n",
    "\t\tprint(\"Fizz\", end=\" \")\t\t\t\t\t\t\t\t\t\t\n",
    "\t\tcontinue\n",
    "\n",
    "\t# Number divisible by 5,\n",
    "\t# print 'Buzz' in\n",
    "\t# place of the number\n",
    "\telif i % 5 == 0:\t\t\n",
    "\t\tprint(\"Buzz\", end=\" \")\t\t\t\t\t\t\t\t\t\n",
    "\t\tcontinue\n",
    "\n",
    "\t# Print numbers\n",
    "\tprint(i, end=\" \")"
   ]
  },
  {
   "cell_type": "code",
   "execution_count": 29,
   "metadata": {},
   "outputs": [
    {
     "name": "stdout",
     "output_type": "stream",
     "text": [
      "the iterate value of  1 is  1\n",
      "the iterate value of  2 is  2\n",
      "the iterate value of  3 is  fizz\n",
      "the iterate value of  4 is  4\n",
      "the iterate value of  5 is  buzz\n",
      "the iterate value of  6 is  fizz\n",
      "the iterate value of  7 is  7\n",
      "the iterate value of  8 is  8\n",
      "the iterate value of  9 is  fizz\n",
      "the iterate value of  10 is  buzz\n",
      "the iterate value of  11 is  11\n",
      "the iterate value of  12 is  fizz\n",
      "the iterate value of  13 is  13\n",
      "the iterate value of  14 is  14\n",
      "the iterate value of  15 is  fizzbuzz\n",
      "the iterate value of  16 is  16\n",
      "the iterate value of  17 is  17\n",
      "the iterate value of  18 is  fizz\n",
      "the iterate value of  19 is  19\n",
      "the iterate value of  20 is  buzz\n",
      "the iterate value of  21 is  fizz\n",
      "the iterate value of  22 is  22\n",
      "the iterate value of  23 is  23\n",
      "the iterate value of  24 is  fizz\n",
      "the iterate value of  25 is  buzz\n",
      "the iterate value of  26 is  26\n",
      "the iterate value of  27 is  fizz\n",
      "the iterate value of  28 is  28\n",
      "the iterate value of  29 is  29\n",
      "the iterate value of  30 is  fizzbuzz\n",
      "the iterate value of  31 is  31\n",
      "the iterate value of  32 is  32\n",
      "the iterate value of  33 is  fizz\n",
      "the iterate value of  34 is  34\n",
      "the iterate value of  35 is  buzz\n",
      "the iterate value of  36 is  fizz\n",
      "the iterate value of  37 is  37\n",
      "the iterate value of  38 is  38\n",
      "the iterate value of  39 is  fizz\n",
      "the iterate value of  40 is  buzz\n",
      "the iterate value of  41 is  41\n",
      "the iterate value of  42 is  fizz\n",
      "the iterate value of  43 is  43\n",
      "the iterate value of  44 is  44\n",
      "the iterate value of  45 is  fizzbuzz\n",
      "the iterate value of  46 is  46\n",
      "the iterate value of  47 is  47\n",
      "the iterate value of  48 is  fizz\n",
      "the iterate value of  49 is  49\n",
      "the iterate value of  50 is  buzz\n"
     ]
    }
   ],
   "source": [
    "#8. Write a Python program which iterates the integers from 1 to 50. For multiples of three print\"Fizz\" instead of the number\n",
    "# and for the multiples of five print \"Buzz\". For numbers which are multiples of both three and five print\"FizzBuzz\".\n",
    "# Example :fizzbuzz 1 2 fizz 4 buzz\n",
    "\n",
    "for i in range(1,51):\n",
    "    print (\"the iterate value of \",i,\"is\",end=\"  \")\n",
    "    if i%3 == 0 and i%5 ==0:\n",
    "        print(\"fizzbuzz\")\n",
    "    elif i%3 == 0:\n",
    "        print(\"fizz\")\n",
    "    elif i%5 == 0:\n",
    "        print(\"buzz\")\n",
    "    else:\n",
    "        print(i)"
   ]
  }
 ],
 "metadata": {
  "kernelspec": {
   "display_name": "base",
   "language": "python",
   "name": "python3"
  },
  "language_info": {
   "codemirror_mode": {
    "name": "ipython",
    "version": 3
   },
   "file_extension": ".py",
   "mimetype": "text/x-python",
   "name": "python",
   "nbconvert_exporter": "python",
   "pygments_lexer": "ipython3",
   "version": "3.9.13"
  },
  "orig_nbformat": 4,
  "vscode": {
   "interpreter": {
    "hash": "b58923c05fc36628bb506289d5e474afe7c000865d09b4e9a519f8ff99ca7de6"
   }
  }
 },
 "nbformat": 4,
 "nbformat_minor": 2
}
